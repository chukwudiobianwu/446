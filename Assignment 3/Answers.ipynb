{
 "cells": [
  {
   "cell_type": "markdown",
   "id": "8870ff42",
   "metadata": {},
   "source": [
    "# Question 1"
   ]
  },
  {
   "cell_type": "markdown",
   "id": "fc0957f4",
   "metadata": {},
   "source": [
    "Seed =6\n",
    "\n",
    "when significance is 0.05  \n",
    "\n",
    "--- Beginning KS Test ---  \n",
    "d_plus: 0.080000  \n",
    "d_minus: 0.190000  \n",
    "d_max: 0.190000  \n",
    "Critical Value: 0.410000  \n",
    "Choice: Accept.  \n",
    "--- Beginning Chi Squared Test ---  \n",
    "Instance bins: 203 181 221 178 224 194 214 193 219 173  \n",
    "Chi Squared Result: 16.210000  \n",
    "Critical Value: 18.300000  \n",
    "Choice: Accept.  \n",
    "\n",
    "when significance is 0.01  \n",
    "\n",
    "--- Beginning KS Test ---  \n",
    "d_plus: 0.080000  \n",
    "d_minus: 0.190000  \n",
    "d_max: 0.190000  \n",
    "Critical Value: 0.490000  \n",
    "Choice: Accept.  \n",
    "--- Beginning Chi Squared Test ---  \n",
    "Instance bins: 203 181 221 178 224 194 214 193 219 173  \n",
    "Chi Squared Result: 16.210000  \n",
    "Critical Value: 23.200000  \n",
    "Choice: Accept.  "
   ]
  },
  {
   "cell_type": "markdown",
   "id": "b2f3150f",
   "metadata": {},
   "source": [
    "# conclusion"
   ]
  },
  {
   "cell_type": "markdown",
   "id": "0803ca79",
   "metadata": {},
   "source": [
    "* The random number generator used in the C program passes both the Kolmogorov-Smirnov (KS) test and the Chi-Squared test for uniformity at both 0.05 and 0.01 significance levels.\n",
    "* These tests suggest that, based on the given significance levels, the generated random numbers exhibit characteristics consistent with a uniform distribution, meeting the criteria for randomness"
   ]
  },
  {
   "cell_type": "markdown",
   "id": "b6cae9bb",
   "metadata": {},
   "source": [
    "# Question 2"
   ]
  },
  {
   "cell_type": "markdown",
   "id": "11fc5e81",
   "metadata": {},
   "source": [
    "Bins: 97 115 107 110 87 105 93 88 106 92  \n",
    "Chi Squared result: 8.700000, expected: 16.900000  \n",
    "Accept  "
   ]
  },
  {
   "cell_type": "markdown",
   "id": "425a6940",
   "metadata": {},
   "source": [
    "## Discuss whether this algorithm is a viable random number generator or not:\n"
   ]
  },
  {
   "cell_type": "markdown",
   "id": "8fc21b56",
   "metadata": {},
   "source": [
    "The implemented random number generator algorithm, based on a linear congruential generator (LCG) in C, shows certain limitations that question its viability for broader applications. While it successfully passes a chi-squared test for uniformity, the algorithm relies on the rand() function for initial values, introducing seed dependency and potential biases. The range of generated numbers is restricted to [0.0, 1.0), limiting its versatility for applications requiring different ranges or specific distribution properties. To enhance viability, considerations such as allowing user-specified LCG parameters, improving seed generation, and exploring established random number generators with proven statistical properties are essential. In its current form, the algorithm may lack the robustness necessary for critical applications"
   ]
  },
  {
   "cell_type": "markdown",
   "id": "33ef31fc",
   "metadata": {},
   "source": [
    "# Question 3"
   ]
  },
  {
   "cell_type": "markdown",
   "id": "58263a9e",
   "metadata": {},
   "source": [
    "a=11, m=16, x_0=7 : [7, 13, 15, 5]  \n",
    "a=11, m=16, x_0=8 : [8]  \n",
    "a=7, m=16, x_0=7 : [7, 1]  \n",
    "a=7, m=16, x_0=8 : [8]  "
   ]
  },
  {
   "cell_type": "markdown",
   "id": "cb96237c",
   "metadata": {},
   "source": [
    "## Inference Drawn"
   ]
  },
  {
   "cell_type": "markdown",
   "id": "77675046",
   "metadata": {},
   "source": [
    "The analysis of linear congruential cycles for various parameter configurations reveals that certain combinations result in cycles of varying lengths, indicating sensitivity to initial values and parameter choices in the generation of pseudo-random sequences."
   ]
  },
  {
   "cell_type": "markdown",
   "id": "78442002",
   "metadata": {},
   "source": [
    "## Question 4"
   ]
  },
  {
   "cell_type": "markdown",
   "id": "e7f6d6cc",
   "metadata": {},
   "source": [
    "Expressions for F(x):\n",
    "\n",
    "For $-\\infty < x \\leq 0$:\n",
    "$$\n",
    "\\int_{-\\infty}^x e^{2y} \\, dy = \\frac{e^{2x}}{2}\n",
    "$$\n",
    "\n",
    "For $0 < x < \\infty$:\n",
    "\n",
    "$$\n",
    "\\int_{-\\infty}^0 e^{2y} \\, dy + \\int_0^x e^{-2y} \\, dy = 1 - \\frac{e^{-2x}}{2}\n",
    "$$\n",
    "\n",
    "Getting $x$ in terms of $R$.\n",
    "\n",
    "* When $-\\infty < x \\leq 0$ then $0 < R \\leq \\frac{1}{2}$.\n",
    "* When $0 < x < \\infty$ then $\\frac{1}{2} < R < 1$.\n",
    "\n",
    "$$\n",
    "x = \\frac{1}{2} \\ln{(2R)} \\quad \\text{if } 0 < R \\leq \\frac{1}{2}\n",
    "$$\n",
    "\n",
    "$$\n",
    "x = -\\frac{1}{2} \\ln{(2-2R)} \\quad \\text{if } \\frac{1}{2} < R < 1\n",
    "$$\n",
    "\n"
   ]
  },
  {
   "cell_type": "markdown",
   "id": "0fa354cb",
   "metadata": {},
   "source": [
    "# Question 5"
   ]
  },
  {
   "cell_type": "markdown",
   "id": "7006ebbe",
   "metadata": {},
   "source": [
    "\n",
    "$$ 1 + (M+1)m \\le N $$\n",
    "$$ 1 + (M+1)3 \\le 20 $$\n",
    "$$ M \\le \\frac{20 - 1}{3} - 1 $$\n",
    "$$ M = \\frac{16}{3} \\approx 5 $$\n",
    "\n",
    "Every third number are: \n",
    "* 0.594, \n",
    "* 0.055, \n",
    "* 0.262, \n",
    "* 0.442, \n",
    "* 0.227, \n",
    "* 0.825, \n",
    "* 0.929\n",
    "\n",
    "$$ s = (0.594)(0.055) + (0.055)(0.262) + (0.262)(0.442) + (0.442)(0.227) + (0.227)(0.825) + (0.825)(0.929) $$"
   ]
  },
  {
   "cell_type": "markdown",
   "id": "b5e0bf9d",
   "metadata": {},
   "source": [
    "The correlation coefficient $( \\rho_{13} )$ is calculated as the difference between one-sixth of the variable $( s )$ and 0.25. This results in $\\rho_{13}$ = -0.047180. The standard deviation $( \\sigma_{\\rho_{13}} )$ of $( \\rho_{13} )$ is determined by the formula $$(\\frac{ \\sqrt{13(5)+7} }{ 12(5+1) } = \\frac{1}{6\\sqrt{2}} )$$.\n",
    "\n",
    "Observationally, lower random numbers tend to be succeeded by higher ones, and vice versa.\n",
    "\n",
    "To standardize $ \\rho_{13}( Z_0 )$, it is divided by the standard deviation $( \\sigma_{\\rho_{13}} )$. The result is $( Z_0 = -0.400338 )$.\n"
   ]
  },
  {
   "cell_type": "markdown",
   "id": "92032f4b",
   "metadata": {},
   "source": [
    "# Question 6"
   ]
  },
  {
   "cell_type": "code",
   "execution_count": 7,
   "id": "77cb647d",
   "metadata": {},
   "outputs": [
    {
     "name": "stdout",
     "output_type": "stream",
     "text": [
      "Generated bins: [394, 246, 135, 96, 40, 33, 13, 19, 12, 5, 7]\n",
      "Normalized bins: [0.394, 0.246, 0.135, 0.096, 0.04, 0.033, 0.013, 0.019, 0.012, 0.005, 0.007]\n"
     ]
    },
    {
     "data": {
      "image/png": "[encoded data removed]",
      "text/plain": [
       "<Figure size 640x480 with 1 Axes>"
      ]
     },
     "metadata": {},
     "output_type": "display_data"
    }
   ],
   "source": [
    "import numpy as np\n",
    "import matplotlib.pyplot as plt\n",
    "\n",
    "SEED = 1\n",
    "MEAN = 1.0\n",
    "INCREMENT_SIZE = 0.5\n",
    "SAMPLES = 1000\n",
    "BINS = 11\n",
    "\n",
    "def exponential(mean):\n",
    "    num = np.random.rand()\n",
    "    return (-1.0 * mean) * np.log(num)\n",
    "\n",
    "def generate_histogram(samples, bins, increment_size):\n",
    "    histogram, bin_edges = np.histogram(samples, bins=np.arange(0, (BINS+1) * INCREMENT_SIZE, INCREMENT_SIZE))\n",
    "    bin_midpoints = (bin_edges[:-1] + bin_edges[1:]) / 2\n",
    "\n",
    "    # Plot histogram\n",
    "    plt.bar(bin_midpoints, histogram / SAMPLES, width=INCREMENT_SIZE, alpha=0.7, color='blue', edgecolor='black', label='Histogram')\n",
    "\n",
    "    # Plot the actual exponential density function\n",
    "    x = np.linspace(0, (BINS-1) * INCREMENT_SIZE, 100)\n",
    "    y = np.exp(-x)\n",
    "    plt.plot(x, y, 'r--', label='Actual Density Function')\n",
    "\n",
    "    plt.title('Exponential Random Variate Histogram and Actual Density Function')\n",
    "    plt.xlabel('X')\n",
    "    plt.ylabel('Density')\n",
    "    plt.legend()\n",
    "    plt.show()\n",
    "\n",
    "def main():\n",
    "    np.random.seed(SEED)  # Seed\n",
    "    values = [exponential(MEAN) for _ in range(SAMPLES)]\n",
    "    bins = [0] * BINS\n",
    "\n",
    "    for value in values:\n",
    "        for index in range(BINS):\n",
    "            if value < (index + 1) * INCREMENT_SIZE:\n",
    "                bins[index] += 1\n",
    "                break\n",
    "        else:\n",
    "            # If we didn't break, put this in the last bin\n",
    "            bins[-1] += 1\n",
    "\n",
    "    print(\"Generated bins:\", bins)\n",
    "\n",
    "    # Normalize\n",
    "    normalized = [bin_count / SAMPLES for bin_count in bins]\n",
    "    print(\"Normalized bins:\", normalized)\n",
    "\n",
    "    # Create and plot histogram\n",
    "    generate_histogram(values, BINS, INCREMENT_SIZE)\n",
    "\n",
    "if __name__ == \"__main__\":\n",
    "    main()\n",
    "\n"
   ]
  }
 ],
 "metadata": {
  "kernelspec": {
   "display_name": "Python 3 (ipykernel)",
   "language": "python",
   "name": "python3"
  },
  "language_info": {
   "codemirror_mode": {
    "name": "ipython",
    "version": 3
   },
   "file_extension": ".py",
   "mimetype": "text/x-python",
   "name": "python",
   "nbconvert_exporter": "python",
   "pygments_lexer": "ipython3",
   "version": "3.11.5"
  }
 },
 "nbformat": 4,
 "nbformat_minor": 5
}
