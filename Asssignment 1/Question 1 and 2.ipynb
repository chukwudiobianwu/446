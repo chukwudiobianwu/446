{
 "cells": [
  {
   "cell_type": "code",
   "execution_count": 19,
   "id": "cac73408",
   "metadata": {},
   "outputs": [],
   "source": [
    "customer_sequence = \"HHTHTHTHHTHHHTH\"\n",
    "customer_types = {'H': 'Home', 'T': 'Business'}\n",
    "arrival_times = {'H': 20, 'T': 10}\n",
    "processing_times = {'H': 5, 'T': 10}\n",
    "\n",
    "# Initialize variables\n",
    "simulation_clock = 0\n",
    "customer_data = []\n",
    "customer_data1 = []\n",
    "count=0\n",
    "\n",
    "!jt -t monokai"
   ]
  },
  {
   "cell_type": "markdown",
   "id": "1bfbeea4",
   "metadata": {},
   "source": [
    "# Question 1"
   ]
  },
  {
   "cell_type": "code",
   "execution_count": 3,
   "id": "73c765b9",
   "metadata": {},
   "outputs": [],
   "source": [
    "for i, customer_type in enumerate(customer_sequence, start=1):\n",
    "    if count != 0:\n",
    "        interarrival_time= arrival_times[customer_type]\n",
    "    if count > 0:\n",
    "        arrival_time = interarrival_time + customer_data[count - 1][3]\n",
    "    else:\n",
    "        interarrival_time= arrival_times[customer_type]\n",
    "        arrival_time = interarrival_time\n",
    "        \n",
    "\n",
    "    service_time = processing_times[customer_type]\n",
    "    \n",
    "    waiting_time = 0 \n",
    "    \n",
    "    serv_ends= arrival_time + service_time\n",
    "    \n",
    "    Time_spentsystem = service_time\n",
    "    \n",
    "    service_begin_time = arrival_time\n",
    "\n",
    "    customer_data.append((i, customer_types[customer_type],interarrival_time, arrival_time , service_time, \n",
    "                          service_begin_time, waiting_time, serv_ends,Time_spentsystem))\n",
    "\n",
    "    customer_data1.append((serv_ends, Time_spentsystem))\n",
    "    \n",
    "    count += 1  # Increment count after calculations"
   ]
  },
  {
   "cell_type": "code",
   "execution_count": 4,
   "id": "9b50dcc1",
   "metadata": {},
   "outputs": [
    {
     "name": "stdout",
     "output_type": "stream",
     "text": [
      "Customer   Type       interarrival Time    arrival Time         Service Time         Time Service Begins  Waiting Time    \n",
      "1          Home       20                   20                   5                    20                   0         \n",
      "2          Home       20                   40                   5                    40                   0         \n",
      "3          Business   10                   50                   10                   50                   0         \n",
      "4          Home       20                   70                   5                    70                   0         \n",
      "5          Business   10                   80                   10                   80                   0         \n",
      "6          Home       20                   100                  5                    100                  0         \n",
      "7          Business   10                   110                  10                   110                  0         \n",
      "8          Home       20                   130                  5                    130                  0         \n",
      "9          Home       20                   150                  5                    150                  0         \n",
      "10         Business   10                   160                  10                   160                  0         \n",
      "11         Home       20                   180                  5                    180                  0         \n",
      "12         Home       20                   200                  5                    200                  0         \n",
      "13         Home       20                   220                  5                    220                  0         \n",
      "14         Business   10                   230                  10                   230                  0         \n",
      "15         Home       20                   250                  5                    250                  0         \n",
      "Time service ends              Time customer spent in system                     \n",
      "25                             5                                                 \n",
      "45                             5                                                 \n",
      "60                             10                                                \n",
      "75                             5                                                 \n",
      "90                             10                                                \n",
      "105                            5                                                 \n",
      "120                            10                                                \n",
      "135                            5                                                 \n",
      "155                            5                                                 \n",
      "170                            10                                                \n",
      "185                            5                                                 \n",
      "205                            5                                                 \n",
      "225                            5                                                 \n",
      "240                            10                                                \n",
      "255                            5                                                 \n"
     ]
    }
   ],
   "source": [
    "print(\"{:<10} {:<10} {:<20} {:<20} {:<20} {:<20} {:<15} \".format(\"Customer\", \"Type\", \"interarrival Time\",\n",
    "                                                                 \"arrival Time\", \"Service Time\", \"Time Service Begins\", \n",
    "                                                                 \"Waiting Time\", \"Time service ends\", \n",
    "                                                                 \"Time customer spent in system\"))\n",
    "\n",
    "# Print customer data rows\n",
    "for data in customer_data:\n",
    "     print(\"{:<10} {:<10} {:<20} {:<20} {:<20} {:<20} {:<10}\".format(*data))\n",
    "\n",
    "print(\"{:<30} {:<50}\".format(\"Time service ends\", \"Time customer spent in system\"))\n",
    "for data in customer_data1:\n",
    "    print(\"{:<30} {:<50}\".format(*data))"
   ]
  },
  {
   "cell_type": "markdown",
   "id": "9114e5c7",
   "metadata": {},
   "source": [
    "# Number 2"
   ]
  },
  {
   "cell_type": "code",
   "execution_count": 5,
   "id": "92b3c06b",
   "metadata": {},
   "outputs": [
    {
     "name": "stdout",
     "output_type": "stream",
     "text": [
      "Average Service Time (from simulation): 6.666666666666667\n"
     ]
    }
   ],
   "source": [
    "total_service_time = sum(data[4] for data in customer_data)\n",
    "average_service_time = total_service_time / len(customer_data)\n",
    "print(\"Average Service Time (from simulation):\", average_service_time)"
   ]
  },
  {
   "cell_type": "code",
   "execution_count": 6,
   "id": "47d2dc38",
   "metadata": {},
   "outputs": [
    {
     "name": "stdout",
     "output_type": "stream",
     "text": [
      "Average Inter-Arrival Time (from simulation): 16.666666666666668\n"
     ]
    }
   ],
   "source": [
    "total_interarrival_time = sum(data[2] for data in customer_data)\n",
    "average_interarrival_time = total_interarrival_time / len(customer_data)\n",
    "print(\"Average Inter-Arrival Time (from simulation):\", average_interarrival_time)"
   ]
  },
  {
   "cell_type": "code",
   "execution_count": 7,
   "id": "3b80a060",
   "metadata": {},
   "outputs": [
    {
     "name": "stdout",
     "output_type": "stream",
     "text": [
      "Server Utilization (from simulation): 2.5\n"
     ]
    }
   ],
   "source": [
    "# Calculate total simulation time (based on the last customer's \"Time service ends\" in customer_data1)\n",
    "server_utilization =  average_interarrival_time / average_service_time\n",
    "print(\"Server Utilization (from simulation):\", server_utilization)"
   ]
  },
  {
   "cell_type": "code",
   "execution_count": 15,
   "id": "045c02bc",
   "metadata": {},
   "outputs": [
    {
     "name": "stdout",
     "output_type": "stream",
     "text": [
      "Theoretical Server Utilization: 0.5\n"
     ]
    }
   ],
   "source": [
    "# Calculate the theoretical server utilization.\n",
    "theoretical_server_utilization =   (20 + 10)/2/(5+10)/2 \n",
    "print(\"Theoretical Server Utilization:\", theoretical_server_utilization)"
   ]
  },
  {
   "cell_type": "code",
   "execution_count": 9,
   "id": "6bf9ced7",
   "metadata": {},
   "outputs": [
    {
     "name": "stdout",
     "output_type": "stream",
     "text": [
      "Average Time Customer Spends in the System (from simulation): 6.666666666666667\n"
     ]
    }
   ],
   "source": [
    "total_time_in_system = sum(data[1] for data in customer_data1)\n",
    "average_time_in_system = total_time_in_system / len(customer_data)\n",
    "print(\"Average Time Customer Spends in the System (from simulation):\", average_time_in_system)\n"
   ]
  },
  {
   "cell_type": "code",
   "execution_count": 10,
   "id": "c0cf9087",
   "metadata": {},
   "outputs": [
    {
     "name": "stdout",
     "output_type": "stream",
     "text": [
      "Average Service Time in terms of p: 6.5\n"
     ]
    }
   ],
   "source": [
    "# Assuming p is the probability of receiving a package from home customers\n",
    "# and (1 - p) is the probability of receiving a package from business customers.\n",
    "p = 0.7  # You can change this value as needed.\n",
    "\n",
    "# Calculate the average service time in terms of p.\n",
    "average_service_time_p = p * processing_times['H'] + (1 - p) * processing_times['T']\n",
    "print(\"Average Service Time in terms of p:\", average_service_time_p)\n"
   ]
  },
  {
   "cell_type": "code",
   "execution_count": 11,
   "id": "f9d286a1",
   "metadata": {},
   "outputs": [
    {
     "name": "stdout",
     "output_type": "stream",
     "text": [
      "Upper Bound of p for System Stability: 0.15\n"
     ]
    }
   ],
   "source": [
    "upper_bound_p = 1 / average_service_time\n",
    "print(\"Upper Bound of p for System Stability:\", upper_bound_p)"
   ]
  },
  {
   "cell_type": "markdown",
   "id": "f18eb2c2",
   "metadata": {},
   "source": [
    "# Number 3"
   ]
  },
  {
   "cell_type": "markdown",
   "id": "40a18d8c",
   "metadata": {},
   "source": [
    "## Seed:1234\n",
    "    \n",
    "        MEAN INTERARRIVAL TIME                         4.5\n",
    "        MEAN SERVICE TIME                              3.2\n",
    "        STANDARD DEVIATION OF SERVICE TIMES            0.6\n",
    "        NUMBER OF CUSTOMERS SERVED                     1000\n",
    "\n",
    "        SERVER UTILIZATION                             0.6923366231098746\n",
    "        MAXIMUM LINE LENGTH                            14.0\n",
    "        AVERAGE RESPONSE TIME                          7.453462578534024  MINUTES\n",
    "        PROPORTION WHO SPEND FOUR\n",
    "         MINUTES OR MORE IN SYSTEM                     0.648\n",
    "        SIMULATION RUNLENGTH                           4596.604878310962 MINUTES\n",
    "        NUMBER OF DEPARTURES                           1000\n",
    "    \n",
    "when number of departures = 10000\n",
    "\n",
    "        MEAN INTERARRIVAL TIME                         4.5\n",
    "        MEAN SERVICE TIME                              3.2\n",
    "        STANDARD DEVIATION OF SERVICE TIMES            0.6\n",
    "        NUMBER OF CUSTOMERS SERVED                     10000\n",
    "\n",
    "        SERVER UTILIZATION                             0.7147674838769887\n",
    "        MAXIMUM LINE LENGTH                            14.0\n",
    "        AVERAGE RESPONSE TIME                          7.3629961511414095  MINUTES\n",
    "        PROPORTION WHO SPEND FOUR \n",
    "         MINUTES OR MORE IN SYSTEM                     0.6808\n",
    "        SIMULATION RUNLENGTH                           44685.40431788778 MINUTES\n",
    "        NUMBER OF DEPARTURES                           10000\n",
    "        \n",
    "when number of departures = 50000\n",
    "\n",
    "        MEAN INTERARRIVAL TIME                         4.5\n",
    "        MEAN SERVICE TIME                              3.2\n",
    "        STANDARD DEVIATION OF SERVICE TIMES            0.6\n",
    "        NUMBER OF CUSTOMERS SERVED                     50000\n",
    "\n",
    "        SERVER UTILIZATION                             0.7104256382483342\n",
    "        MAXIMUM LINE LENGTH                            14.0\n",
    "        AVERAGE RESPONSE TIME                          7.266012108951527  MINUTES\n",
    "        PROPORTION WHO SPEND FOUR\n",
    "         MINUTES OR MORE IN SYSTEM                     0.6738\n",
    "        SIMULATION RUNLENGTH                           225423.760463051 MINUTES\n",
    "        NUMBER OF DEPARTURES                           50000\n",
    "        \n",
    "## Seed 3425\n",
    "\n",
    "when number of departures = 10000\n",
    "    \n",
    "        MEAN INTERARRIVAL TIME                         4.5\n",
    "        MEAN SERVICE TIME                              3.2\n",
    "        STANDARD DEVIATION OF SERVICE TIMES            0.6\n",
    "        NUMBER OF CUSTOMERS SERVED                     10000\n",
    "\n",
    "        SERVER UTILIZATION                             0.7099667900640589\n",
    "        MAXIMUM LINE LENGTH                            10.0\n",
    "        AVERAGE RESPONSE TIME                          7.030003285247036  MINUTES\n",
    "        PROPORTION WHO SPEND FOUR\n",
    "         MINUTES OR MORE IN SYSTEM                     0.674\n",
    "        SIMULATION RUNLENGTH                           45140.30112564157 MINUTES\n",
    "        NUMBER OF DEPARTURES                           10000\n",
    "        \n",
    "when number of departures = 50000\n",
    "\n",
    "        MEAN INTERARRIVAL TIME                         4.5\n",
    "        MEAN SERVICE TIME                              3.2\n",
    "        STANDARD DEVIATION OF SERVICE TIMES            0.6\n",
    "        NUMBER OF CUSTOMERS SERVED                     50000\n",
    "\n",
    "        SERVER UTILIZATION                             0.7119802982612581\n",
    "        MAXIMUM LINE LENGTH                            15.0\n",
    "        AVERAGE RESPONSE TIME                          7.335462440201225  MINUTES\n",
    "        PROPORTION WHO SPEND FOUR\n",
    "         MINUTES OR MORE IN SYSTEM                     0.6795\n",
    "        SIMULATION RUNLENGTH                           224631.7218052965 MINUTES\n",
    "        NUMBER OF DEPARTURES                           50000"
   ]
  },
  {
   "cell_type": "markdown",
   "id": "e93322a9",
   "metadata": {},
   "source": [
    "f. The simulation results for this queuing system with different numbers of customers served and different random seeds show that server utilization, maximum queue length, average response time, and customer satisfaction metrics fluctuate with changing parameters. A higher server utilization show better usage of resources, but it needs to be balanced with the potential for longer customer wait times. The random seed choice introduces variability in results.There needs to be careful consideration and optimization are necessary to meet specific performance objectives in the queing system"
   ]
  },
  {
   "cell_type": "markdown",
   "id": "e82e66ad",
   "metadata": {},
   "source": [
    "g. \n",
    "\n",
    "## Seed 1234\n",
    "\n",
    "        MEAN INTERARRIVAL TIME                         4.5\n",
    "        MEAN SERVICE TIME                              3.2\n",
    "        STANDARD DEVIATION OF SERVICE TIMES            0.6\n",
    "        NUMBER OF CUSTOMERS SERVED                     10000\n",
    "\n",
    "        SERVER UTILIZATION                             0.7148766509811918\n",
    "        MAXIMUM LINE LENGTH                            17.0\n",
    "        AVERAGE RESPONSE TIME                          11.526126067199284  MINUTES\n",
    "        PROPORTION WHO SPEND FOUR\n",
    "         MINUTES OR MORE IN SYSTEM                     0.7096\n",
    "        SIMULATION RUNLENGTH                           44785.730406268805 MINUTES\n",
    "        NUMBER OF DEPARTURES                           10000\n",
    "        \n",
    "## Seed 5423\n",
    "\n",
    "        MEAN INTERARRIVAL TIME                         4.5\n",
    "        MEAN SERVICE TIME                              3.2\n",
    "        STANDARD DEVIATION OF SERVICE TIMES            0.6\n",
    "        NUMBER OF CUSTOMERS SERVED                     10000\n",
    "\n",
    "        SERVER UTILIZATION                             0.712530112812002\n",
    "        MAXIMUM LINE LENGTH                            21.0\n",
    "        AVERAGE RESPONSE TIME                          11.458786647735696  MINUTES\n",
    "        PROPORTION WHO SPEND FOUR\n",
    "         MINUTES OR MORE IN SYSTEM                     0.7035\n",
    "        SIMULATION RUNLENGTH                           44754.92270419588 MINUTES\n",
    "        NUMBER OF DEPARTURES                           10000\n",
    "        \n",
    "    "
   ]
  },
  {
   "cell_type": "markdown",
   "id": "e6f895fd",
   "metadata": {},
   "source": [
    "h.\n",
    "\n",
    "## Seed 2435\n",
    "\n",
    "        MEAN INTERARRIVAL TIME                         4.5\n",
    "        MEAN SERVICE TIME                              3.2\n",
    "        STANDARD DEVIATION OF SERVICE TIMES            0.6\n",
    "        NUMBER OF CUSTOMERS SERVED                     50000\n",
    "\n",
    "        SERVER UTILIZATION                             0.7113017735828506\n",
    "        MAXIMUM LINE LENGTH                            25.0\n",
    "        AVERAGE RESPONSE TIME                          11.125067648464604  MINUTES\n",
    "        PROPORTION WHO SPEND FOUR\n",
    "         MINUTES OR MORE IN SYSTEM                     0.69962\n",
    "        SIMULATION RUNLENGTH                           224319.64499032652 MINUTES\n",
    "        NUMBER OF DEPARTURES                           50000\n",
    "        \n",
    "## Seed 3241\n",
    "        MEAN INTERARRIVAL TIME                         4.5\n",
    "        MEAN SERVICE TIME                              3.2\n",
    "        STANDARD DEVIATION OF SERVICE TIMES            0.6\n",
    "        NUMBER OF CUSTOMERS SERVED                     50000\n",
    "\n",
    "        SERVER UTILIZATION                             0.7101756041038967\n",
    "        MAXIMUM LINE LENGTH                            30.0\n",
    "        AVERAGE RESPONSE TIME                          11.085543661139793  MINUTES\n",
    "        PROPORTION WHO SPEND FOUR \n",
    "         MINUTES OR MORE IN SYSTEM                     0.69648\n",
    "        SIMULATION RUNLENGTH                           225815.19376361556 MINUTES\n",
    "        NUMBER OF DEPARTURES                           50000\n",
    "        \n",
    "## Seed 1325\n",
    "\n",
    "        MEAN INTERARRIVAL TIME                         4.5\n",
    "        MEAN SERVICE TIME                              3.2\n",
    "        STANDARD DEVIATION OF SERVICE TIMES            0.6\n",
    "        NUMBER OF CUSTOMERS SERVED                     50000\n",
    "\n",
    "        SERVER UTILIZATION                             0.7132356367663881\n",
    "        MAXIMUM LINE LENGTH                            20.0\n",
    "        AVERAGE RESPONSE TIME                          10.82516994080301  MINUTES\n",
    "        PROPORTION WHO SPEND FOUR\n",
    "         MINUTES OR MORE IN SYSTEM                     0.6996\n",
    "        SIMULATION RUNLENGTH                           224561.68092872103 MINUTES\n",
    "        NUMBER OF DEPARTURES                           50000\n",
    "        \n",
    "## Seed 4321\n",
    "\n",
    "        MEAN INTERARRIVAL TIME                         4.5\n",
    "        MEAN SERVICE TIME                              3.2\n",
    "        STANDARD DEVIATION OF SERVICE TIMES            0.6\n",
    "        NUMBER OF CUSTOMERS SERVED                     50000\n",
    "\n",
    "        SERVER UTILIZATION                             0.7159452315621371\n",
    "        MAXIMUM LINE LENGTH                            26.0\n",
    "        AVERAGE RESPONSE TIME                          11.248588608702057  MINUTES\n",
    "        PROPORTION WHO SPEND FOUR\n",
    "         MINUTES OR MORE IN SYSTEM                     0.70274\n",
    "        SIMULATION RUNLENGTH                           223860.9894944703 MINUTES\n",
    "        NUMBER OF DEPARTURES                           50000\n",
    "        \n",
    "## Seed 6347\n",
    "\n",
    "        MEAN INTERARRIVAL TIME                         4.5\n",
    "        MEAN SERVICE TIME                              3.2\n",
    "        STANDARD DEVIATION OF SERVICE TIMES            0.6\n",
    "        NUMBER OF CUSTOMERS SERVED                     50000\n",
    "\n",
    "        SERVER UTILIZATION                             0.7153495840565021\n",
    "        MAXIMUM LINE LENGTH                            36.0\n",
    "        AVERAGE RESPONSE TIME                          11.26271953515149  MINUTES\n",
    "        PROPORTION WHO SPEND FOUR\n",
    "         MINUTES OR MORE IN SYSTEM                     0.70002\n",
    "        SIMULATION RUNLENGTH                           224642.57649149292 MINUTES\n",
    "        NUMBER OF DEPARTURES                           50000\n",
    "        \n",
    "        \n",
    "**Mean Inter-Arrival Time:** \n",
    "Mean: 4.5 \n",
    "Variance: 0 (Constant value in all runs) \n",
    "**Mean Service Time:**\n",
    "Mean: 3.2 \n",
    "Variance: 0 (Constant value in all runs) \n",
    "**Server Utilization:**\n",
    "Mean: Approximately 0.7111 \n",
    "Variance: Varies slightly across runs \n",
    "**Mean Response Time:** \n",
    "Mean: Varies slightly across runs \n",
    "Variance: Varies across runs\n",
    "        \n",
    "        \n",
    "        \n",
    "        \n",
    "With a stable server utilization, the system generally performs well,but there is room for improvement in reducing response time variability. Additional analysis and optimization is needed depending on ones objectives. I cannot fully determine if they are good as they depend on ones specific goals and requirement a utilization of approx 71.11 sows efficient resource usage but whether the variations in response time align with the service level agreements and/r customer exectations is a huge factor to consider as further optimization is needed if the goal is to minimize response time and its variablity."
   ]
  },
  {
   "cell_type": "markdown",
   "id": "9a86e648",
   "metadata": {},
   "source": [
    "# Question 4"
   ]
  },
  {
   "cell_type": "markdown",
   "id": "ae1b1395",
   "metadata": {},
   "source": [
    "Service time When uniform = 109.895\n",
    "System Utilization when unifrom=0.601386482\n",
    "\n",
    "\n",
    "service time of untouched spreadsheet(not unifrom) = 109.75\n",
    "\n",
    "System utilization of untouched spreadsheet(not unifrom)= 0.659751037\n",
    "\n",
    "\n",
    "When compared with the original example, the expected service time increased slightly from 109.75 minutes in the \n",
    "original case to 209.895 min with uniform distribution, because the uniform distribution includes a wider range \n",
    "of service times, including longer service times which on average results in a slightly longer expected service time. While the system utilization decreased from 0.6598 in the original case to 0.6014 with uniform distribution which shows that the server is being utilized  less efficiently with uniform distribution and because it has longer idle periods between customers due to the wide range of service time"
   ]
  },
  {
   "cell_type": "markdown",
   "id": "03e56c8a",
   "metadata": {},
   "source": [
    "# Question 5"
   ]
  },
  {
   "cell_type": "markdown",
   "id": "91b59a28",
   "metadata": {},
   "source": [
    "a. \n",
    "\n",
    "\n",
    "\n",
    "b.\n",
    "Arrival Rate: Customers arrive at an average rate of approximately 2.3232 customers per unit of time. This indicates the pace at which customers seek service.\n",
    "\n",
    "Service Time: The average service time per customer is approximately 3.84 units of time. This represents the time it takes to process a customer's request.\n",
    "\n",
    "Time in System: On average, a customer spends 4 units of time within the system, encompassing both waiting time and service time. This metric reflects the overall customer experience.\n",
    "\n",
    "System Utilization: The system is operating at a utilization rate of around 60.5%. This means that, on average, 60.5% of the available resources (such as servers) are in use at any given time.\n",
    "\n",
    "Highest upper bound was 83, lowest upper bound was 4\n",
    "\n",
    "This shows that there is some room for improving resource utilization, as the system is not fully utilized\n",
    "\n",
    "c. \n",
    "\n",
    "\n",
    "**when trials =200 with modification to able and baker**\n",
    "\n",
    "Average\t0.86\n",
    "Median\t0.715\n",
    "\t\n",
    "Minimum\t0.2\n",
    "Maximum\t4.01\n",
    "\n",
    "**when trials =200 without modification to able and baker(original policy)**\n",
    "Average\t0.77\n",
    "Median\t0.64\n",
    "\t\n",
    "Minimum\t0.18\n",
    "Maximum\t2.82\n",
    "\n",
    "Based on these comparisons,the original policy performs better in terms of caller delay. Here's why:\n",
    "\n",
    "The original policy has a lower average and median caller delay, indicating that, on average, customers experience shorter delays.\n",
    "\n",
    "The maximum caller delay under the original policy is also lower, meaning that exceptionally long delays are less likely to occur compared to the modified policy.\n",
    "\n",
    "While both policies have the same minimum caller delay, the original policy overall provides a more consistent and efficient service in terms of caller delay."
   ]
  },
  {
   "cell_type": "markdown",
   "id": "01098e03",
   "metadata": {},
   "source": [
    "# Question 6"
   ]
  },
  {
   "cell_type": "markdown",
   "id": "6091fbe5",
   "metadata": {},
   "source": [
    "a.\n",
    "Average\t5.46\n",
    "Median\t6\n",
    "Mode\t7\n",
    "Minimum\t0\n",
    "Maximum\t10\n",
    "\n",
    "b.\n",
    "Average\t3.97\n",
    "Median\t4\n",
    "Mode\t4\n",
    "Minimum\t0\n",
    "Maximum\t8\n",
    "\n",
    "c.\n",
    "Average\t9.27\n",
    "Median\t9\n",
    "Mode\t10\n",
    "Minimum\t7\n",
    "Maximum\t10\n",
    "\n",
    "d.\n",
    "Average\t6.37\n",
    "Median\t6\n",
    "Mode\t6\n",
    "Minimum\t3\n",
    "Maximum\t10\n",
    "\n",
    "e.\n",
    "1000\n",
    "\n",
    "f.\n",
    "For a,  This shows that there is a relatively consistent performance with a moderate average number of hits.\n",
    "\n",
    "For b, the average number of hits is 3.97, which is lower than in 'a'. The median and mode are both 4, indicating a similar pattern of hits in most trials. The minimum is 0, and the maximum is 8. This suggests a lower average performance compared to the experiment in a.\n",
    "\n",
    "For c, the average number of hits is 9.27, which is the highest among the provided experiments. The median and mode are both 9 or 10, which shows that most trials resulted in a high number of hits. The minimum is 7, suggesting that even in the worst-case scenarios, there are relatively high hits. In general this shows a very good performance.\n",
    "\n",
    "for d, the average number of hits is 6.37, which is lower than that in experiment of cbut higher than in experiment of a and b. The median and mode are both 6. The minimum is 3, indicating that even in less successful trials, there are some hits, and the maximum is 10, showing a maximum of 10 hits in some trials.\n",
    "\n",
    "In summary, the expermiments 'a' to 'd' provide good information about different scenarios or conditions, with varying levels of performance in terms of hitting the target. experiment 'c' stands out as having the highest average and overall performance."
   ]
  },
  {
   "cell_type": "markdown",
   "id": "9dcfcfcd",
   "metadata": {},
   "source": [
    "# Question 7"
   ]
  },
  {
   "cell_type": "code",
   "execution_count": 70,
   "id": "b8b63487",
   "metadata": {},
   "outputs": [
    {
     "name": "stdout",
     "output_type": "stream",
     "text": [
      "When p = 0.3, Estimated p = 0.3075, Normalized Estimation Error = 0.025000\n",
      "When p = 0.1, Estimated p = 0.1013, Normalized Estimation Error = 0.013000\n",
      "When p = 0.001, Estimated p = 0.0008, Normalized Estimation Error = 0.200000\n",
      "When p = 0.0001, Estimated p = 0.0001, Normalized Estimation Error = 0.000000\n"
     ]
    }
   ],
   "source": [
    "import random\n",
    "\n",
    "def estimate_probability(num_tosses, true_probability):\n",
    "    num_heads = 0\n",
    "\n",
    "    for _ in range(num_tosses):\n",
    "        # Simulate a coin toss with probability p\n",
    "        if random.random() < true_probability:\n",
    "            num_heads += 1\n",
    "\n",
    "    # Calculate the estimated probability\n",
    "    estimated_probability = num_heads / num_tosses\n",
    "\n",
    "    # Calculate the normalized estimation error\n",
    "    normalized_error = abs(true_probability - estimated_probability) / true_probability\n",
    "\n",
    "    return estimated_probability, normalized_error\n",
    "\n",
    "# Define the true probabilities\n",
    "probabilities = [0.3, 0.1, 0.001, 0.0001]\n",
    "\n",
    "for p in probabilities:\n",
    "    estimated_p, error = estimate_probability(10000, p)\n",
    "    print(f\"When p = {p}, Estimated p = {estimated_p}, Normalized Estimation Error = {error:.6f}\")\n"
   ]
  },
  {
   "cell_type": "code",
   "execution_count": null,
   "id": "c9f72dc3",
   "metadata": {},
   "outputs": [],
   "source": []
  }
 ],
 "metadata": {
  "kernelspec": {
   "display_name": "Python 3 (ipykernel)",
   "language": "python",
   "name": "python3"
  },
  "language_info": {
   "codemirror_mode": {
    "name": "ipython",
    "version": 3
   },
   "file_extension": ".py",
   "mimetype": "text/x-python",
   "name": "python",
   "nbconvert_exporter": "python",
   "pygments_lexer": "ipython3",
   "version": "3.11.5"
  }
 },
 "nbformat": 4,
 "nbformat_minor": 5
}
